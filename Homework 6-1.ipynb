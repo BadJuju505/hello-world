{
 "cells": [
  {
   "cell_type": "markdown",
   "metadata": {},
   "source": [
    "# Homework 6: Project Report\n",
    "This homework is very similar to homework 5, except now you've hopefully finished your project! You should fill in each of the sections below based on your results. Note that each section has changed from homework 5, so don't just copy paste, the questions are different!"
   ]
  },
  {
   "cell_type": "markdown",
   "metadata": {},
   "source": [
    "## Task 1: Problem Description\n",
    "* Describe the functionality of your finished product. Try to explain it as if you were writing for a potential customor.\n",
    "* Did anything about your project goals change? What caused the change?\n",
    "* If you had more time, what would you do differently?"
   ]
  },
  {
   "cell_type": "markdown",
   "metadata": {},
   "source": [
    "## Task 2: Dataset Description\n",
    "* How did you collect your dataset?\n",
    "* What features did your dataset have?\n",
    "* What were the labels?\n",
    "* How many samples did you collect?\n",
    "* What is your final opinion of your dataset? If you could do it again, what would you change?"
   ]
  },
  {
   "cell_type": "markdown",
   "metadata": {},
   "source": [
    "## Task 3: Model Design\n",
    "* What type of architecture did you use? Was it the same as you expected? If not, why?\n",
    "* Show the structure of your architecture (graphic here)"
   ]
  },
  {
   "cell_type": "markdown",
   "metadata": {},
   "source": [
    "## Task 4: Training\n",
    "* What was your final training and test accuracy? How many epochs did it take to reach that?\n",
    "* Did you encounter any unexpected issues during training?"
   ]
  },
  {
   "cell_type": "markdown",
   "metadata": {},
   "source": [
    "## Task 5: Deployment\n",
    "* Describe the method used to fun your model, how did it fit into the rest of your system?\n",
    "* Are you happy with how the project turned out? Why or why not?"
   ]
  }
 ],
 "metadata": {
  "kernelspec": {
   "display_name": "Python 3",
   "language": "python",
   "name": "python3"
  },
  "language_info": {
   "codemirror_mode": {
    "name": "ipython",
    "version": 3
   },
   "file_extension": ".py",
   "mimetype": "text/x-python",
   "name": "python",
   "nbconvert_exporter": "python",
   "pygments_lexer": "ipython3",
   "version": "3.6.4"
  }
 },
 "nbformat": 4,
 "nbformat_minor": 2
}
