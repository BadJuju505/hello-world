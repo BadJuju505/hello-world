{
 "cells": [
  {
   "cell_type": "markdown",
   "metadata": {},
   "source": [
    "# Lecture 3: Intro to Neural Networks\n",
    "In this lecture, we will begin examining how a neural network operates and how it is trained. To do this, we will build a perceptron that classifies the Iris dataset."
   ]
  },
  {
   "cell_type": "markdown",
   "metadata": {},
   "source": [
    "![neuron](https://appliedgo.net/media/perceptron/neuron.png)"
   ]
  },
  {
   "cell_type": "markdown",
   "metadata": {},
   "source": [
    "The simplest form a neural network is called the __Perceptron__. A Perceptron is essentially a single neuron that performs __Binary Classification__, that is classification that only has two outputs."
   ]
  },
  {
   "cell_type": "markdown",
   "metadata": {},
   "source": [
    "![perceptron](https://cdn-images-1.medium.com/max/1600/1*n6sJ4yZQzwKL9wnF5wnVNg.png)"
   ]
  },
  {
   "cell_type": "markdown",
   "metadata": {},
   "source": [
    "Our goal is to learn the weights in the green boxes above, the hypothesis being that there is some linear relationship between the inputs and the desired output. Let's express the image above as an equation.\n",
    "\n",
    "$f(x) = \\text{sign}(\\boldsymbol{w}\\boldsymbol{x} + b)$\n",
    "\n",
    "Rembering that\n",
    "$\\boldsymbol{w}\\boldsymbol{x} = \\sum\\limits_{j=1}^d w[j]\\cdot x[j]$\n",
    "\n",
    "In the case of the image above, $b$ is equivalent to $w_0$"
   ]
  },
  {
   "cell_type": "markdown",
   "metadata": {},
   "source": [
    "This is all well and good, but how are we going to figure out the values of $\\boldsymbol{w}$? Because perceptrons perform binary classification, it is very obvious when they make a mistake. Like a person does, let's learn from those mistakes!\n",
    "\n",
    "Lets consider the simplest case of perceptron, a single input value $x$ and a corresponding single weight $w$\n",
    "\n",
    "$y = \\text{sign}(w \\cdot x + b)$\n",
    "\n",
    "If we were to make a classification mistake, we'd want to change $w$ and $b$ so that next time, we wouldnt make that mistake. Given the simplicity of the equation representing our perceptron, we can use the derivative with respect to the output to figure out how to change $w$ and $b$\n",
    "\n",
    "$\\frac{dy}{dw} = x$\n",
    "\n",
    "$\\frac{dy}{db} = 1$\n",
    "\n",
    "If we should have guessed 1, but guessed -1 instead, then we want to pick $\\frac{dy}{dw}$ to make $y$ more positive. So we should update $w$ and $b$ by\n",
    "\n",
    "$w \\leftarrow w + x$\n",
    "\n",
    "$b \\leftarrow b + 1$\n",
    "\n",
    "If we instead guessed -1 when we should have guessed 1 we similarly want $\\frac{dy}{dw}$ to be negative\n",
    "\n",
    "$w \\leftarrow w - x$\n",
    "\n",
    "$b \\leftarrow b - 1$\n",
    "\n",
    "We can consolidate these two equations by defining the correct output to be $y_n$, then we can simply write\n",
    "\n",
    "$w \\leftarrow w + y_n\\cdot x$\n",
    "\n",
    "$b \\leftarrow b + y_n$"
   ]
  },
  {
   "cell_type": "markdown",
   "metadata": {},
   "source": [
    "And thats it! This is the basic form of __Gradient Descent__, a fundamental ML tool. If we iterate through the training data and update the weight and bias, we will eventually have a trained perceptron. Fortunately, this same principle applies to perceptrons with multiple inputs as well! We simply use vector operations for $w$ and $x$.\n",
    "\n",
    "![grad_descent](https://cdn-images-1.medium.com/max/500/1*9sd4Ve9DH-k4EcNba5fGTA.jpeg)"
   ]
  },
  {
   "cell_type": "markdown",
   "metadata": {},
   "source": [
    "Let's see if we can apply a perceptron algorithm to the Iris dataset introduced in the previous lecture"
   ]
  },
  {
   "cell_type": "code",
   "execution_count": 1,
   "metadata": {},
   "outputs": [],
   "source": [
    "# start by importing some of the modules we're going to use for this lecture\n",
    "import mxnet as mx\n",
    "from mxnet import nd\n",
    "from mxnet import gluon\n",
    "import matplotlib.pyplot as plt\n",
    "import matplotlib.image as mpimg\n",
    "from matplotlib.pyplot import imshow\n",
    "import numpy as np\n",
    "%matplotlib inline"
   ]
  },
  {
   "cell_type": "code",
   "execution_count": 2,
   "metadata": {},
   "outputs": [],
   "source": [
    "import matplotlib.pyplot as plt\n",
    "from mpl_toolkits.mplot3d import Axes3D\n",
    "from sklearn import datasets\n",
    "from sklearn.decomposition import PCA\n",
    "from sklearn.utils import shuffle\n",
    "\n",
    "iris = datasets.load_iris()"
   ]
  },
  {
   "cell_type": "code",
   "execution_count": 4,
   "metadata": {},
   "outputs": [
    {
     "name": "stdout",
     "output_type": "stream",
     "text": [
      "Iris Plants Database\n",
      "====================\n",
      "\n",
      "Notes\n",
      "-----\n",
      "Data Set Characteristics:\n",
      "    :Number of Instances: 150 (50 in each of three classes)\n",
      "    :Number of Attributes: 4 numeric, predictive attributes and the class\n",
      "    :Attribute Information:\n",
      "        - sepal length in cm\n",
      "        - sepal width in cm\n",
      "        - petal length in cm\n",
      "        - petal width in cm\n",
      "        - class:\n",
      "                - Iris-Setosa\n",
      "                - Iris-Versicolour\n",
      "                - Iris-Virginica\n",
      "    :Summary Statistics:\n",
      "\n",
      "    ============== ==== ==== ======= ===== ====================\n",
      "                    Min  Max   Mean    SD   Class Correlation\n",
      "    ============== ==== ==== ======= ===== ====================\n",
      "    sepal length:   4.3  7.9   5.84   0.83    0.7826\n",
      "    sepal width:    2.0  4.4   3.05   0.43   -0.4194\n",
      "    petal length:   1.0  6.9   3.76   1.76    0.9490  (high!)\n",
      "    petal width:    0.1  2.5   1.20  0.76     0.9565  (high!)\n",
      "    ============== ==== ==== ======= ===== ====================\n",
      "\n",
      "    :Missing Attribute Values: None\n",
      "    :Class Distribution: 33.3% for each of 3 classes.\n",
      "    :Creator: R.A. Fisher\n",
      "    :Donor: Michael Marshall (MARSHALL%PLU@io.arc.nasa.gov)\n",
      "    :Date: July, 1988\n",
      "\n",
      "This is a copy of UCI ML iris datasets.\n",
      "http://archive.ics.uci.edu/ml/datasets/Iris\n",
      "\n",
      "The famous Iris database, first used by Sir R.A Fisher\n",
      "\n",
      "This is perhaps the best known database to be found in the\n",
      "pattern recognition literature.  Fisher's paper is a classic in the field and\n",
      "is referenced frequently to this day.  (See Duda & Hart, for example.)  The\n",
      "data set contains 3 classes of 50 instances each, where each class refers to a\n",
      "type of iris plant.  One class is linearly separable from the other 2; the\n",
      "latter are NOT linearly separable from each other.\n",
      "\n",
      "References\n",
      "----------\n",
      "   - Fisher,R.A. \"The use of multiple measurements in taxonomic problems\"\n",
      "     Annual Eugenics, 7, Part II, 179-188 (1936); also in \"Contributions to\n",
      "     Mathematical Statistics\" (John Wiley, NY, 1950).\n",
      "   - Duda,R.O., & Hart,P.E. (1973) Pattern Classification and Scene Analysis.\n",
      "     (Q327.D83) John Wiley & Sons.  ISBN 0-471-22361-1.  See page 218.\n",
      "   - Dasarathy, B.V. (1980) \"Nosing Around the Neighborhood: A New System\n",
      "     Structure and Classification Rule for Recognition in Partially Exposed\n",
      "     Environments\".  IEEE Transactions on Pattern Analysis and Machine\n",
      "     Intelligence, Vol. PAMI-2, No. 1, 67-71.\n",
      "   - Gates, G.W. (1972) \"The Reduced Nearest Neighbor Rule\".  IEEE Transactions\n",
      "     on Information Theory, May 1972, 431-433.\n",
      "   - See also: 1988 MLC Proceedings, 54-64.  Cheeseman et al\"s AUTOCLASS II\n",
      "     conceptual clustering system finds 3 classes in the data.\n",
      "   - Many, many more ...\n",
      "\n"
     ]
    }
   ],
   "source": [
    "print(iris.DESCR)"
   ]
  },
  {
   "cell_type": "markdown",
   "metadata": {},
   "source": [
    "We want to perform binary classification, but Iris normally has 3 possible output classes. Let's drop the third."
   ]
  },
  {
   "cell_type": "code",
   "execution_count": 13,
   "metadata": {},
   "outputs": [],
   "source": [
    "iris_data = iris.data[:100]\n",
    "iris_labels = iris.target[:100]"
   ]
  },
  {
   "cell_type": "code",
   "execution_count": 14,
   "metadata": {},
   "outputs": [
    {
     "data": {
      "text/plain": [
       "array([0, 0, 0, 0, 0, 0, 0, 0, 0, 0, 0, 0, 0, 0, 0, 0, 0, 0, 0, 0, 0, 0, 0,\n",
       "       0, 0, 0, 0, 0, 0, 0, 0, 0, 0, 0, 0, 0, 0, 0, 0, 0, 0, 0, 0, 0, 0, 0,\n",
       "       0, 0, 0, 0, 1, 1, 1, 1, 1, 1, 1, 1, 1, 1, 1, 1, 1, 1, 1, 1, 1, 1, 1,\n",
       "       1, 1, 1, 1, 1, 1, 1, 1, 1, 1, 1, 1, 1, 1, 1, 1, 1, 1, 1, 1, 1, 1, 1,\n",
       "       1, 1, 1, 1, 1, 1, 1, 1])"
      ]
     },
     "execution_count": 14,
     "metadata": {},
     "output_type": "execute_result"
    }
   ],
   "source": [
    "iris_labels"
   ]
  },
  {
   "cell_type": "markdown",
   "metadata": {},
   "source": [
    "Great! Just like before lets shuffle this and split it into training and validation sets."
   ]
  },
  {
   "cell_type": "code",
   "execution_count": 16,
   "metadata": {},
   "outputs": [],
   "source": [
    "iris_data, iris_labels = shuffle(iris_data, iris_labels)\n",
    "train_data = iris_data[:80]\n",
    "val_data = iris_data[80:]\n",
    "train_labels = iris_labels[:80]\n",
    "val_labels = iris_labels[80:]"
   ]
  },
  {
   "cell_type": "markdown",
   "metadata": {},
   "source": [
    "Finally, lets remove all but the first feature"
   ]
  },
  {
   "cell_type": "code",
   "execution_count": 51,
   "metadata": {},
   "outputs": [
    {
     "data": {
      "text/plain": [
       "<matplotlib.collections.PathCollection at 0x7f457b88b710>"
      ]
     },
     "execution_count": 51,
     "metadata": {},
     "output_type": "execute_result"
    },
    {
     "data": {
      "image/png": "[encoded data removed]",
      "text/plain": [
       "<matplotlib.figure.Figure at 0x7f457b413278>"
      ]
     },
     "metadata": {},
     "output_type": "display_data"
    }
   ],
   "source": [
    "redux_feature = 3\n",
    "\n",
    "train_data_redux = train_data[:,redux_feature]\n",
    "val_data_redux = val_data[:,redux_feature]\n",
    "\n",
    "# now lets plot our input feature versus the output for the training set\n",
    "plt.scatter(train_data_redux, train_labels, c=train_labels)"
   ]
  },
  {
   "cell_type": "markdown",
   "metadata": {},
   "source": [
    "Great! This looks like it should be linearlly seperable (what the perceptron specializes in. Lets go ahead and implement it."
   ]
  },
  {
   "cell_type": "code",
   "execution_count": 52,
   "metadata": {},
   "outputs": [
    {
     "name": "stdout",
     "output_type": "stream",
     "text": [
      "2.3\n",
      "-2\n"
     ]
    }
   ],
   "source": [
    "# initialize learnable parameters\n",
    "weight = 0\n",
    "bias = 0\n",
    "\n",
    "# iterate through all the training data\n",
    "for i, data in enumerate(train_data_redux):\n",
    "    # make our prediction\n",
    "    guess = np.sign(weight*data + bias)\n",
    "    correct = train_labels[i]\n",
    "    # perceptron wants labels to be -1 or 1, if correct is 0, switch it to -1\n",
    "    if correct == 0:\n",
    "        correct = -1\n",
    "    # check if our guess is correct, update our parameters if we were wrong\n",
    "    if guess != correct:\n",
    "        weight = weight + correct*data\n",
    "        bias = bias + correct\n",
    "        \n",
    "print(weight)\n",
    "print(bias)"
   ]
  },
  {
   "cell_type": "code",
   "execution_count": 53,
   "metadata": {},
   "outputs": [],
   "source": [
    "# define a function that uses our learned values to make a new prediction\n",
    "def predict(input, weight, bias):\n",
    "    guess = np.sign(weight*input + bias)\n",
    "    # for comparison to the dataset, we want labels to be 0 or 1\n",
    "    if guess == -1:\n",
    "        guess = 0\n",
    "    return guess"
   ]
  },
  {
   "cell_type": "code",
   "execution_count": 54,
   "metadata": {
    "scrolled": true
   },
   "outputs": [
    {
     "name": "stdout",
     "output_type": "stream",
     "text": [
      "Correct\n",
      "Correct\n",
      "Correct\n",
      "Correct\n",
      "Correct\n",
      "Correct\n",
      "Correct\n",
      "Correct\n",
      "Correct\n",
      "Correct\n",
      "Correct\n",
      "Correct\n",
      "Correct\n",
      "Correct\n",
      "Correct\n",
      "Correct\n",
      "Correct\n",
      "Correct\n",
      "Correct\n",
      "Correct\n",
      "Accuracy: 100.000000%\n"
     ]
    }
   ],
   "source": [
    "# lets check how our model learned!\n",
    "total_correct = 0\n",
    "for i, data in enumerate(val_data_redux):\n",
    "    guess = predict(data, weight, bias)\n",
    "    if guess != val_labels[i]:\n",
    "        print(\"Incorrect\")\n",
    "    else:\n",
    "        print(\"Correct\")\n",
    "        total_correct += 1\n",
    "print(\"Accuracy: %f%%\" % (100*total_correct/len(val_labels)))"
   ]
  },
  {
   "cell_type": "markdown",
   "metadata": {},
   "source": [
    "Great! If you were using feature 3, chances are your network did very well."
   ]
  },
  {
   "cell_type": "markdown",
   "metadata": {},
   "source": [
    "## Activity: Perceptron Sandbox\n",
    "What happens if we try to learn a perceptron model using other features? Go back to the redux_features variable and change it. What is the result? Why do you think this happens? Do you have any ideas for improving the accuracy? If you look at the results of other tables, you might notice they have different accuracy despite everything else seeming similar. Can you explain why that's happening?"
   ]
  },
  {
   "cell_type": "markdown",
   "metadata": {},
   "source": [
    "## Perceptron With Multiple Features\n",
    "Now that we looked at the simple case, let's try training a perceptron that uses all 4 of Iris' input features."
   ]
  },
  {
   "cell_type": "code",
   "execution_count": 81,
   "metadata": {},
   "outputs": [],
   "source": [
    "# initialize a weights vector and a bias for our new 4 features perceptron\n",
    "weights = np.zeros(train_data[0].shape)\n",
    "bias = 0"
   ]
  },
  {
   "cell_type": "code",
   "execution_count": 85,
   "metadata": {},
   "outputs": [
    {
     "name": "stdout",
     "output_type": "stream",
     "text": [
      "[-1.3 -4.6  7.2  3.3]\n",
      "-1\n"
     ]
    }
   ],
   "source": [
    "# iterate through all the training data\n",
    "for i, data in enumerate(train_data):\n",
    "    output = 0\n",
    "    # note that now data is a vector of features\n",
    "    # this means we'll have to build up the output from each feature\n",
    "    for j, feature in enumerate(data):\n",
    "        output += feature * weights[j]\n",
    "    # add the bias after all features are accumulated\n",
    "    output += bias\n",
    "    # finally, apply the sign to get our guess\n",
    "    guess = np.sign(output)\n",
    "    \n",
    "    # like before, we want to compare to the correct label\n",
    "    correct = train_labels[i]\n",
    "    # if correct is 0, we want to make it -1 for proper training\n",
    "    if correct == 0:\n",
    "        correct = -1\n",
    "    \n",
    "    # check if we got the correct answer, update our parameters if we did not\n",
    "    if guess != correct:\n",
    "        # now apply the updates\n",
    "        for j in range(len(data)):\n",
    "            weights[j] = weights[j] + correct*data[j]\n",
    "        bias = bias + correct\n",
    "\n",
    "print(weights)\n",
    "print(bias)"
   ]
  },
  {
   "cell_type": "markdown",
   "metadata": {},
   "source": [
    "Cool! We learned a full iris model! Notice that this barely looks different from the case when we learned 1 feature, there are just a couple of added for loops. Let's see how accurate it is."
   ]
  },
  {
   "cell_type": "code",
   "execution_count": 86,
   "metadata": {},
   "outputs": [],
   "source": [
    "def full_predict(input, weights, bias):\n",
    "    # again, iterate through features and accumulate\n",
    "    output = 0\n",
    "    for i, feature in enumerate(input):\n",
    "        output += feature*weights[i]\n",
    "    # add the bias\n",
    "    output += bias\n",
    "    # take the sign to find the guess\n",
    "    guess = np.sign(output)\n",
    "    # map guesses of -1 to 0 for compatibility with iris\n",
    "    if guess == -1:\n",
    "        guess = 0\n",
    "    return guess"
   ]
  },
  {
   "cell_type": "code",
   "execution_count": 88,
   "metadata": {},
   "outputs": [
    {
     "name": "stdout",
     "output_type": "stream",
     "text": [
      "Correct\n",
      "Correct\n",
      "Correct\n",
      "Correct\n",
      "Correct\n",
      "Correct\n",
      "Correct\n",
      "Correct\n",
      "Correct\n",
      "Correct\n",
      "Correct\n",
      "Correct\n",
      "Correct\n",
      "Correct\n",
      "Correct\n",
      "Correct\n",
      "Correct\n",
      "Correct\n",
      "Correct\n",
      "Correct\n",
      "Accuracy: 100.000000%\n"
     ]
    }
   ],
   "source": [
    "# lets check how our model learned!\n",
    "total_correct = 0\n",
    "for i, data in enumerate(val_data):\n",
    "    guess = full_predict(data, weights, bias)\n",
    "    if guess != val_labels[i]:\n",
    "        print(\"Incorrect\")\n",
    "    else:\n",
    "        print(\"Correct\")\n",
    "        total_correct += 1\n",
    "print(\"Accuracy: %f%%\" % (100*total_correct/len(val_labels)))"
   ]
  },
  {
   "cell_type": "markdown",
   "metadata": {},
   "source": [
    "Woohoo! If things went well, this model got 100% accuracy on Iris, that's much better than the KNN algorithm we looked at."
   ]
  },
  {
   "cell_type": "markdown",
   "metadata": {},
   "source": [
    "## Activity: Stump the Perceptron\n",
    "Do you think Perceptron is always better than KNN? Are there any cases where the Perceptron doesn't work at all? We're going to make our own toy datasets and see how learnable they are. Before you start, let's look at an example and some utility functions."
   ]
  },
  {
   "cell_type": "code",
   "execution_count": 119,
   "metadata": {},
   "outputs": [],
   "source": [
    "# as an example, generate some random two dimensional data\n",
    "\n",
    "def my_data_generator(size):\n",
    "    datalist = []\n",
    "    labels = []\n",
    "    for i in range(size):\n",
    "        # generate a label thats 1 or -1\n",
    "        label = 2*np.random.randint(2) - 1\n",
    "        # now based on that label, apply some function\n",
    "        x = 2*label + 5\n",
    "        y = -.5*label\n",
    "        # finally, lets add some noise to make it more interesting\n",
    "        x += np.random.randn()\n",
    "        y += np.random.randn()\n",
    "        datalist.append([x, y])\n",
    "        labels.append(label)\n",
    "    return np.asarray(datalist), np.asarray(labels)"
   ]
  },
  {
   "cell_type": "code",
   "execution_count": 120,
   "metadata": {},
   "outputs": [],
   "source": [
    "data, target = my_data_generator(10)"
   ]
  },
  {
   "cell_type": "code",
   "execution_count": 123,
   "metadata": {},
   "outputs": [
    {
     "data": {
      "text/plain": [
       "<matplotlib.collections.PathCollection at 0x7f457bc43cc0>"
      ]
     },
     "execution_count": 123,
     "metadata": {},
     "output_type": "execute_result"
    },
    {
     "data": {
      "image/png": "[encoded data removed]",
      "text/plain": [
       "<matplotlib.figure.Figure at 0x7f457ba66c18>"
      ]
     },
     "metadata": {},
     "output_type": "display_data"
    }
   ],
   "source": [
    "plt.scatter(data[:,0], data[:,1], c=target)"
   ]
  },
  {
   "cell_type": "markdown",
   "metadata": {},
   "source": [
    "Neat, this looks pretty seperable so we'd expect a perceptron to do well. Lets make a training and validation set too\n"
   ]
  },
  {
   "cell_type": "code",
   "execution_count": 174,
   "metadata": {
    "scrolled": true
   },
   "outputs": [
    {
     "data": {
      "text/plain": [
       "<matplotlib.collections.PathCollection at 0x7f457282ceb8>"
      ]
     },
     "execution_count": 174,
     "metadata": {},
     "output_type": "execute_result"
    },
    {
     "data": {
      "image/png": "[encoded data removed]",
      "text/plain": [
       "<matplotlib.figure.Figure at 0x7f4572868748>"
      ]
     },
     "metadata": {},
     "output_type": "display_data"
    }
   ],
   "source": [
    "train_data, train_labels = my_data_generator(100)\n",
    "val_data, val_labels = my_data_generator(20)\n",
    "plt.scatter(train_data[:,0], train_data[:,1], c=train_labels)"
   ]
  },
  {
   "cell_type": "code",
   "execution_count": 175,
   "metadata": {},
   "outputs": [
    {
     "data": {
      "text/plain": [
       "<matplotlib.collections.PathCollection at 0x7f4572806748>"
      ]
     },
     "execution_count": 175,
     "metadata": {},
     "output_type": "execute_result"
    },
    {
     "data": {
      "image/png": "[encoded data removed]",
      "text/plain": [
       "<matplotlib.figure.Figure at 0x7f4572af0240>"
      ]
     },
     "metadata": {},
     "output_type": "display_data"
    }
   ],
   "source": [
    "plt.scatter(val_data[:,0], val_data[:,1], c=val_labels)"
   ]
  },
  {
   "cell_type": "code",
   "execution_count": 176,
   "metadata": {},
   "outputs": [],
   "source": [
    "# define a function that trains a perceptron\n",
    "def train_perceptron(train_data, train_labels):\n",
    "    num_features = train_data.shape[1]\n",
    "    # initialize learnable parameters\n",
    "    weights = np.zeros(num_features)\n",
    "    bias = 0\n",
    "    \n",
    "    for i, data in enumerate(train_data):\n",
    "        # compute the output by summing features\n",
    "        output = 0\n",
    "        for j in range(num_features):\n",
    "            output += data[j]*weights[j]\n",
    "        output += bias\n",
    "        # apply sign to get our guess\n",
    "        guess = np.sign(output)\n",
    "        correct = train_labels[i]\n",
    "        \n",
    "        if guess != correct:\n",
    "            #update parameters if guess was wrong\n",
    "            for j in range(num_features):\n",
    "                weights[j] = weights[j] + correct*data[j]\n",
    "            bias = bias + correct\n",
    "            \n",
    "    return weights, bias           "
   ]
  },
  {
   "cell_type": "code",
   "execution_count": 177,
   "metadata": {},
   "outputs": [
    {
     "name": "stdout",
     "output_type": "stream",
     "text": [
      "[ 1.98674189 -8.96837426]\n",
      "-13\n"
     ]
    }
   ],
   "source": [
    "# train a new perceptron using our data\n",
    "weights, bias = train_perceptron(train_data, train_labels)\n",
    "print(weights)\n",
    "print(bias)"
   ]
  },
  {
   "cell_type": "code",
   "execution_count": 178,
   "metadata": {},
   "outputs": [],
   "source": [
    "# now define a function to test the perceptron\n",
    "def test_perceptron(weights, bias, val_data, val_labels):\n",
    "    num_features = val_data.shape[1]\n",
    "    total_correct = 0\n",
    "    for i, data in enumerate(val_data):\n",
    "        output = 0\n",
    "        for j in range(num_features):\n",
    "            output += weights[j] * data[j]\n",
    "        output += bias\n",
    "        guess = np.sign(output)\n",
    "        correct = val_labels[i]\n",
    "        \n",
    "        if guess == correct:\n",
    "            total_correct += 1\n",
    "    return total_correct / val_data.shape[0]"
   ]
  },
  {
   "cell_type": "code",
   "execution_count": 179,
   "metadata": {},
   "outputs": [
    {
     "data": {
      "text/plain": [
       "0.75"
      ]
     },
     "execution_count": 179,
     "metadata": {},
     "output_type": "execute_result"
    }
   ],
   "source": [
    "test_perceptron(weights, bias, val_data, val_labels)"
   ]
  },
  {
   "cell_type": "markdown",
   "metadata": {},
   "source": [
    "Not bad! Our perceptron here does an alright job, although not perfect. Here are a few things to try:\n",
    "* Make a dataset that the perceptron can learn with very high accuracy\n",
    "* Make a dataset that the perceptron can not learn\n",
    "* Make a dataset that a person can learn, but the perceptron cannot\n",
    "* For the last dataset, what changes could you make to help?"
   ]
  },
  {
   "cell_type": "markdown",
   "metadata": {},
   "source": [
    "## Comparison to KNN\n",
    "Now, lets try classifying your dataset with KNN, and see how it goes."
   ]
  },
  {
   "cell_type": "code",
   "execution_count": 197,
   "metadata": {},
   "outputs": [],
   "source": [
    "# lets define some utility functions to make things cleaner\n",
    "\n",
    "def euclid_distance(a, b):\n",
    "    return np.linalg.norm(a - b)\n",
    "\n",
    "def get_neighbors(distances, train_labels, k=5):\n",
    "    closest_points = nd.topk(nd.array(distances), k=5, is_ascend=True).asnumpy().astype(np.int)\n",
    "    return [train_labels[point] for point in closest_points]\n",
    "\n",
    "def best_guess(labels):\n",
    "    labels = np.asarray(labels)\n",
    "    return np.argmax(np.bincount(labels+1))      "
   ]
  },
  {
   "cell_type": "code",
   "execution_count": 204,
   "metadata": {},
   "outputs": [],
   "source": [
    "# implement KNN the same way as the previous lecture\n",
    "def KNN_Accuracy(train_data, train_labels, val_data, val_labels, k=5):\n",
    "    total_correct = 0\n",
    "    # iterate through validation samples\n",
    "    for i, sample in enumerate(val_data):\n",
    "        # compute distances to all points in the training set\n",
    "        distances = np.asarray([euclid_distance(sample, neighbor) for neighbor in train_data])\n",
    "        # find closest k neighbors\n",
    "        knn = get_neighbors(distances, train_labels, k)\n",
    "        # determine which label is best\n",
    "        guess = best_guess(knn) - 1\n",
    "        # check if we got the right answer\n",
    "        if guess == val_labels[i]:\n",
    "            total_correct += 1\n",
    "    print(\"Accuracy: %f%%\" % (100*total_correct / val_data.shape[0]))"
   ]
  },
  {
   "cell_type": "code",
   "execution_count": 205,
   "metadata": {},
   "outputs": [
    {
     "name": "stdout",
     "output_type": "stream",
     "text": [
      "Accuracy: 90.000000%\n"
     ]
    }
   ],
   "source": [
    "KNN_Accuracy(train_data, train_labels, val_data, val_labels)"
   ]
  },
  {
   "cell_type": "markdown",
   "metadata": {},
   "source": [
    "Interesting! KNN actually does better in this case. Try to figure out why. Can you consistently create a dataset where KNN outperforms the perceptron? How about vice-versa?"
   ]
  },
  {
   "cell_type": "code",
   "execution_count": null,
   "metadata": {},
   "outputs": [],
   "source": []
  }
 ],
 "metadata": {
  "kernelspec": {
   "display_name": "Python 3",
   "language": "python",
   "name": "python3"
  },
  "language_info": {
   "codemirror_mode": {
    "name": "ipython",
    "version": 3
   },
   "file_extension": ".py",
   "mimetype": "text/x-python",
   "name": "python",
   "nbconvert_exporter": "python",
   "pygments_lexer": "ipython3",
   "version": "3.6.4"
  }
 },
 "nbformat": 4,
 "nbformat_minor": 2
}
